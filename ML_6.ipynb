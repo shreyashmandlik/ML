{
  "cells": [
    {
      "cell_type": "markdown",
      "id": "af473fba-4477-4702-bb24-9042b5335882",
      "metadata": {
        "id": "af473fba-4477-4702-bb24-9042b5335882"
      },
      "source": [
        "# Reinforcement Learning\n",
        "\n",
        "## Implement Reinforcement Learning using an example of a maze environment that the agent needs to explore."
      ]
    },
    {
      "cell_type": "code",
      "execution_count": null,
      "id": "47ca79df-12d5-4724-be00-391691bbb3c2",
      "metadata": {
        "id": "47ca79df-12d5-4724-be00-391691bbb3c2",
        "outputId": "ee9dea97-4b15-4b9f-e83d-51de707906a8",
        "colab": {
          "base_uri": "https://localhost:8080/",
          "height": 452
        }
      },
      "outputs": [
        {
          "output_type": "display_data",
          "data": {
            "text/plain": [
              "<Figure size 640x480 with 1 Axes>"
            ],
            "image/png": "[encoded data removed]"
          },
          "metadata": {}
        }
      ],
      "source": [
        "import numpy as np\n",
        "import matplotlib.pyplot as plt\n",
        "\n",
        "# Define the maze environment\n",
        "class Maze:\n",
        "    def __init__(self, size, start, goal, walls):\n",
        "        self.size = size\n",
        "        self.start = start\n",
        "        self.goal = goal\n",
        "        self.walls = walls\n",
        "        self.state = start\n",
        "\n",
        "    def reset(self):\n",
        "        self.state = self.start\n",
        "        return self.state\n",
        "\n",
        "    def is_terminal(self):\n",
        "        return self.state == self.goal\n",
        "\n",
        "    def get_possible_actions(self):\n",
        "        actions = ['up', 'down', 'left', 'right']\n",
        "        x, y = self.state\n",
        "        if x == 0:\n",
        "            actions.remove('up')\n",
        "        if x == self.size[0] - 1:\n",
        "            actions.remove('down')\n",
        "        if y == 0:\n",
        "            actions.remove('left')\n",
        "        if y == self.size[1] - 1:\n",
        "            actions.remove('right')\n",
        "        return actions\n",
        "\n",
        "    def take_action(self, action):\n",
        "        x, y = self.state\n",
        "        if action == 'up':\n",
        "            new_state = (x - 1, y)\n",
        "        elif action == 'down':\n",
        "            new_state = (x + 1, y)\n",
        "        elif action == 'left':\n",
        "            new_state = (x, y - 1)\n",
        "        elif action == 'right':\n",
        "            new_state = (x, y + 1)\n",
        "        else:\n",
        "            raise ValueError(\"Invalid action\")\n",
        "\n",
        "        if new_state in self.walls or not (0 <= new_state[0] < self.size[0] and 0 <= new_state[1] < self.size[1]):\n",
        "            new_state = self.state\n",
        "\n",
        "        self.state = new_state\n",
        "        reward = 1 if self.state == self.goal else -0.01\n",
        "        return new_state, reward\n",
        "\n",
        "    def render(self):\n",
        "        maze = np.zeros(self.size)\n",
        "        maze[self.goal] = 2\n",
        "        for wall in self.walls:\n",
        "            maze[wall] = -1\n",
        "        maze[self.state] = 1\n",
        "        plt.imshow(maze, cmap='cool', vmin=-1, vmax=2)\n",
        "        plt.show()\n",
        "\n",
        "# Q-learning algorithm\n",
        "class QLearning:\n",
        "    def __init__(self, maze, alpha=0.1, gamma=0.9, epsilon=0.1):\n",
        "        self.maze = maze\n",
        "        # Fixed number of actions ('up', 'down', 'left', 'right')\n",
        "        self.q_table = np.zeros((*maze.size, 4))  # Fixed to 4 actions\n",
        "        self.alpha = alpha\n",
        "        self.gamma = gamma\n",
        "        self.epsilon = epsilon\n",
        "        self.actions = ['up', 'down', 'left', 'right']  # Fixed actions\n",
        "\n",
        "    def choose_action(self, state):\n",
        "        possible_actions = self.maze.get_possible_actions()  # Get possible actions for the current state\n",
        "        if np.random.rand() < self.epsilon:\n",
        "            return np.random.choice(possible_actions)  # Choose a valid random action\n",
        "        else:\n",
        "            # Only select the action with the highest Q-value from possible actions\n",
        "            action_values = {action: self.q_table[state[0], state[1], self.actions.index(action)] for action in possible_actions}\n",
        "            return max(action_values, key=action_values.get)\n",
        "\n",
        "    def update_q_table(self, state, action, reward, next_state):\n",
        "        action_idx = self.actions.index(action)\n",
        "        best_next_action = np.max(self.q_table[next_state[0], next_state[1]])\n",
        "        self.q_table[state[0], state[1], action_idx] += self.alpha * (reward + self.gamma * best_next_action - self.q_table[state[0], state[1], action_idx])\n",
        "\n",
        "    def train(self, episodes):\n",
        "        for _ in range(episodes):\n",
        "            state = self.maze.reset()\n",
        "            while not self.maze.is_terminal():\n",
        "                action = self.choose_action(state)\n",
        "                next_state, reward = self.maze.take_action(action)\n",
        "                self.update_q_table(state, action, reward, next_state)\n",
        "                state = next_state\n",
        "\n",
        "\n",
        "# Main execution\n",
        "if __name__ == \"__main__\":\n",
        "    size = (5, 5)\n",
        "    start = (0, 0)\n",
        "    goal = (4, 4)\n",
        "    walls = [(2, 2), (3, 2), (1, 3)]\n",
        "\n",
        "    maze = Maze(size, start, goal, walls)\n",
        "    q_learning = QLearning(maze, alpha=0.1, gamma=0.9, epsilon=0.1)\n",
        "    q_learning.train(1000)\n",
        "\n",
        "    # Visualization of the learned policy\n",
        "    policy = np.full(size, '', dtype=object)\n",
        "    for i in range(size[0]):\n",
        "        for j in range(size[1]):\n",
        "            state = (i, j)\n",
        "            if state == goal:\n",
        "                policy[i, j] = 'G'\n",
        "            elif state in walls:\n",
        "                policy[i, j] = 'W'\n",
        "            else:\n",
        "                action_idx = np.argmax(q_learning.q_table[i, j])\n",
        "                policy[i, j] = q_learning.actions[action_idx][0].upper()\n",
        "\n",
        "    plt.imshow(np.where(policy == 'W', -1, np.where(policy == 'G', 2, 0)), cmap='cool', vmin=-1, vmax=2)\n",
        "    plt.title('Learned Policy')\n",
        "    plt.show()"
      ]
    },
    {
      "cell_type": "code",
      "source": [],
      "metadata": {
        "id": "IOwU3qGvwNZs"
      },
      "id": "IOwU3qGvwNZs",
      "execution_count": null,
      "outputs": []
    },
    {
      "cell_type": "code",
      "execution_count": null,
      "id": "924cfdda-f1a9-4942-a696-4904435a251c",
      "metadata": {
        "id": "924cfdda-f1a9-4942-a696-4904435a251c"
      },
      "outputs": [],
      "source": []
    }
  ],
  "metadata": {
    "kernelspec": {
      "display_name": "Python 3 (ipykernel)",
      "language": "python",
      "name": "python3"
    },
    "language_info": {
      "codemirror_mode": {
        "name": "ipython",
        "version": 3
      },
      "file_extension": ".py",
      "mimetype": "text/x-python",
      "name": "python",
      "nbconvert_exporter": "python",
      "pygments_lexer": "ipython3",
      "version": "3.10.9"
    },
    "colab": {
      "provenance": []
    }
  },
  "nbformat": 4,
  "nbformat_minor": 5
}